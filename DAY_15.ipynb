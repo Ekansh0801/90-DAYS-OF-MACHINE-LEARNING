{
  "nbformat": 4,
  "nbformat_minor": 0,
  "metadata": {
    "colab": {
      "provenance": [],
      "authorship_tag": "ABX9TyMuVwA4rcLihFMMm7CNKKeC",
      "include_colab_link": true
    },
    "kernelspec": {
      "name": "python3",
      "display_name": "Python 3"
    },
    "language_info": {
      "name": "python"
    }
  },
  "cells": [
    {
      "cell_type": "markdown",
      "metadata": {
        "id": "view-in-github",
        "colab_type": "text"
      },
      "source": [
        "<a href=\"https://colab.research.google.com/github/Ekansh0801/90-DAYS-OF-MACHINE-LEARNING/blob/main/DAY_15.ipynb\" target=\"_parent\"><img src=\"https://colab.research.google.com/assets/colab-badge.svg\" alt=\"Open In Colab\"/></a>"
      ]
    },
    {
      "cell_type": "markdown",
      "source": [
        "# Matrix Operations"
      ],
      "metadata": {
        "id": "9RsKQnTqxA9q"
      }
    },
    {
      "cell_type": "code",
      "source": [
        "import numpy as np"
      ],
      "metadata": {
        "id": "kPRag7c1zuaj"
      },
      "execution_count": 1,
      "outputs": []
    },
    {
      "cell_type": "markdown",
      "source": [
        "### Matrix Addition"
      ],
      "metadata": {
        "id": "Hke_0PtAz0YG"
      }
    },
    {
      "cell_type": "markdown",
      "source": [
        "#### Two Matrices can be added only if they had same shape"
      ],
      "metadata": {
        "id": "9WnTYbd9z50T"
      }
    },
    {
      "cell_type": "code",
      "source": [
        "# creating two matrices\n",
        "\n",
        "A = np.array([[2,3],[4,5]])\n",
        "\n",
        "B = np.array([[6,7],[8,9]])\n",
        "\n",
        "sum = A + B\n",
        "print(sum)\n",
        "print(sum.shape)"
      ],
      "metadata": {
        "colab": {
          "base_uri": "https://localhost:8080/"
        },
        "id": "U1EG67wiz-Vj",
        "outputId": "958cb474-053f-469d-a511-32bd9650de67"
      },
      "execution_count": 3,
      "outputs": [
        {
          "output_type": "stream",
          "name": "stdout",
          "text": [
            "[[ 8 10]\n",
            " [12 14]]\n",
            "(2, 2)\n"
          ]
        }
      ]
    },
    {
      "cell_type": "code",
      "source": [
        "# two matrices with random values\n",
        "\n",
        "matrix_1 = np.random.randint(10,size=(3,3))\n",
        "matrix_2 = np.random.randint(20,size=(3,3))\n",
        "\n",
        "sum = np.add(matrix_1,matrix_2)\n",
        "print(sum)"
      ],
      "metadata": {
        "colab": {
          "base_uri": "https://localhost:8080/"
        },
        "id": "NHQt7ULX0cAt",
        "outputId": "7fa3d88d-0628-49fb-c67c-19b55e94de23"
      },
      "execution_count": 4,
      "outputs": [
        {
          "output_type": "stream",
          "name": "stdout",
          "text": [
            "[[26  9 14]\n",
            " [ 3 11 18]\n",
            " [11 25  5]]\n"
          ]
        }
      ]
    },
    {
      "cell_type": "code",
      "source": [
        "# two matrices with random values\n",
        "\n",
        "matrix_1 = np.random.randint(10,size=(3,3))\n",
        "matrix_2 = np.random.randint(20,size=(3,4))\n",
        "\n",
        "sum_2 = np.add(matrix_1,matrix_2)  # we will get error becuse shape is different\n",
        "print(sum_2)"
      ],
      "metadata": {
        "colab": {
          "base_uri": "https://localhost:8080/",
          "height": 193
        },
        "id": "tSgd2S5u0wKm",
        "outputId": "abf8031e-29c7-4cae-c042-a1db16ebc6eb"
      },
      "execution_count": 5,
      "outputs": [
        {
          "output_type": "error",
          "ename": "ValueError",
          "evalue": "operands could not be broadcast together with shapes (3,3) (3,4) ",
          "traceback": [
            "\u001b[0;31m---------------------------------------------------------------------------\u001b[0m",
            "\u001b[0;31mValueError\u001b[0m                                Traceback (most recent call last)",
            "\u001b[0;32m<ipython-input-5-cd1289e57732>\u001b[0m in \u001b[0;36m<cell line: 6>\u001b[0;34m()\u001b[0m\n\u001b[1;32m      4\u001b[0m \u001b[0mmatrix_2\u001b[0m \u001b[0;34m=\u001b[0m \u001b[0mnp\u001b[0m\u001b[0;34m.\u001b[0m\u001b[0mrandom\u001b[0m\u001b[0;34m.\u001b[0m\u001b[0mrandint\u001b[0m\u001b[0;34m(\u001b[0m\u001b[0;36m20\u001b[0m\u001b[0;34m,\u001b[0m\u001b[0msize\u001b[0m\u001b[0;34m=\u001b[0m\u001b[0;34m(\u001b[0m\u001b[0;36m3\u001b[0m\u001b[0;34m,\u001b[0m\u001b[0;36m4\u001b[0m\u001b[0;34m)\u001b[0m\u001b[0;34m)\u001b[0m\u001b[0;34m\u001b[0m\u001b[0;34m\u001b[0m\u001b[0m\n\u001b[1;32m      5\u001b[0m \u001b[0;34m\u001b[0m\u001b[0m\n\u001b[0;32m----> 6\u001b[0;31m \u001b[0msum_2\u001b[0m \u001b[0;34m=\u001b[0m \u001b[0mnp\u001b[0m\u001b[0;34m.\u001b[0m\u001b[0madd\u001b[0m\u001b[0;34m(\u001b[0m\u001b[0mmatrix_1\u001b[0m\u001b[0;34m,\u001b[0m\u001b[0mmatrix_2\u001b[0m\u001b[0;34m)\u001b[0m\u001b[0;34m\u001b[0m\u001b[0;34m\u001b[0m\u001b[0m\n\u001b[0m\u001b[1;32m      7\u001b[0m \u001b[0mprint\u001b[0m\u001b[0;34m(\u001b[0m\u001b[0msum_2\u001b[0m\u001b[0;34m)\u001b[0m\u001b[0;34m\u001b[0m\u001b[0;34m\u001b[0m\u001b[0m\n",
            "\u001b[0;31mValueError\u001b[0m: operands could not be broadcast together with shapes (3,3) (3,4) "
          ]
        }
      ]
    },
    {
      "cell_type": "markdown",
      "source": [
        "### Matrix Subraction"
      ],
      "metadata": {
        "id": "dVgscBg-1HX0"
      }
    },
    {
      "cell_type": "code",
      "source": [
        "# creating two matrices\n",
        "\n",
        "A = np.array([[2,3],[4,5]])\n",
        "\n",
        "B = np.array([[6,7],[8,9]])\n",
        "\n",
        "diff = A - B\n",
        "print(diff)\n",
        "print(diff.shape)"
      ],
      "metadata": {
        "colab": {
          "base_uri": "https://localhost:8080/"
        },
        "id": "VhkKJcgl1Jjo",
        "outputId": "3abc1e45-e757-443d-dfd4-08ba6e4e5027"
      },
      "execution_count": 6,
      "outputs": [
        {
          "output_type": "stream",
          "name": "stdout",
          "text": [
            "[[-4 -4]\n",
            " [-4 -4]]\n",
            "(2, 2)\n"
          ]
        }
      ]
    },
    {
      "cell_type": "code",
      "source": [
        "# two matrices with random values\n",
        "\n",
        "matrix_1 = np.random.randint(10,size=(3,3))\n",
        "matrix_2 = np.random.randint(20,size=(3,3))\n",
        "\n",
        "diff = np.subtract(matrix_1,matrix_2)\n",
        "print(diff)"
      ],
      "metadata": {
        "colab": {
          "base_uri": "https://localhost:8080/"
        },
        "id": "dCwXSiPh1MbA",
        "outputId": "7c9fc747-dc3c-482c-bd62-db4522d69d24"
      },
      "execution_count": 8,
      "outputs": [
        {
          "output_type": "stream",
          "name": "stdout",
          "text": [
            "[[ -8 -15 -16]\n",
            " [-15   0  -5]\n",
            " [-18 -13   1]]\n"
          ]
        }
      ]
    },
    {
      "cell_type": "markdown",
      "source": [
        "### Multiplying a Matrix By scalar"
      ],
      "metadata": {
        "id": "IgCr-50_1cW6"
      }
    },
    {
      "cell_type": "code",
      "source": [
        "x = 5\n",
        "y = np.random.randint(10,size=(4,4))\n",
        "\n",
        "print(y)"
      ],
      "metadata": {
        "colab": {
          "base_uri": "https://localhost:8080/"
        },
        "id": "dcLZdppT1eWy",
        "outputId": "f6caa395-b95f-4093-f703-7f6a54adc4d9"
      },
      "execution_count": 14,
      "outputs": [
        {
          "output_type": "stream",
          "name": "stdout",
          "text": [
            "[[8 3 0 5]\n",
            " [5 3 5 4]\n",
            " [6 3 6 2]\n",
            " [0 9 1 5]]\n"
          ]
        }
      ]
    },
    {
      "cell_type": "code",
      "source": [
        "prod = np.multiply(x,y)\n",
        "print(prod)"
      ],
      "metadata": {
        "colab": {
          "base_uri": "https://localhost:8080/"
        },
        "id": "y7GRmIZ01qDr",
        "outputId": "30e71572-27f6-4c87-9230-a43418de1a9e"
      },
      "execution_count": 15,
      "outputs": [
        {
          "output_type": "stream",
          "name": "stdout",
          "text": [
            "[[40 15  0 25]\n",
            " [25 15 25 20]\n",
            " [30 15 30 10]\n",
            " [ 0 45  5 25]]\n"
          ]
        }
      ]
    },
    {
      "cell_type": "markdown",
      "source": [
        "### Multiplying two matrices"
      ],
      "metadata": {
        "id": "aXGmMwXT151i"
      }
    },
    {
      "cell_type": "code",
      "source": [
        "# two matrices with random values\n",
        "\n",
        "matrix_1 = np.random.randint(5,size=(3,3))\n",
        "matrix_2 = np.random.randint(5,size=(3,4))"
      ],
      "metadata": {
        "id": "228TUGRk1-3a"
      },
      "execution_count": 18,
      "outputs": []
    },
    {
      "cell_type": "code",
      "source": [
        "print(matrix_1)"
      ],
      "metadata": {
        "colab": {
          "base_uri": "https://localhost:8080/"
        },
        "id": "0ShCB32p2MT9",
        "outputId": "2c88d3cd-53d0-4fa9-e32e-43dd62c2b077"
      },
      "execution_count": 19,
      "outputs": [
        {
          "output_type": "stream",
          "name": "stdout",
          "text": [
            "[[0 2 4]\n",
            " [4 4 0]\n",
            " [4 3 2]]\n"
          ]
        }
      ]
    },
    {
      "cell_type": "code",
      "source": [
        "print(matrix_2)"
      ],
      "metadata": {
        "colab": {
          "base_uri": "https://localhost:8080/"
        },
        "id": "S8Gi6Gop2TS4",
        "outputId": "3badb5c3-6e64-44c4-cde1-cfc7e57cb693"
      },
      "execution_count": 21,
      "outputs": [
        {
          "output_type": "stream",
          "name": "stdout",
          "text": [
            "[[1 3 3 1]\n",
            " [2 4 3 1]\n",
            " [1 4 4 2]]\n"
          ]
        }
      ]
    },
    {
      "cell_type": "code",
      "source": [
        "product = np.dot(matrix_1,matrix_2)\n",
        "print(product)"
      ],
      "metadata": {
        "colab": {
          "base_uri": "https://localhost:8080/"
        },
        "id": "VvqC3tBW2UnW",
        "outputId": "7b8afbef-6957-4f5a-927f-e131a829bd0d"
      },
      "execution_count": 22,
      "outputs": [
        {
          "output_type": "stream",
          "name": "stdout",
          "text": [
            "[[ 8 24 22 10]\n",
            " [12 28 24  8]\n",
            " [12 32 29 11]]\n"
          ]
        }
      ]
    },
    {
      "cell_type": "code",
      "source": [
        "print(product.shape)"
      ],
      "metadata": {
        "colab": {
          "base_uri": "https://localhost:8080/"
        },
        "id": "QjWZ3fLy2cke",
        "outputId": "9a789a00-d962-41dd-d3c1-e86c1fcf9e9f"
      },
      "execution_count": 23,
      "outputs": [
        {
          "output_type": "stream",
          "name": "stdout",
          "text": [
            "(3, 4)\n"
          ]
        }
      ]
    },
    {
      "cell_type": "code",
      "source": [
        "# two matrices with random values\n",
        "\n",
        "matrix_3 = np.random.randint(5,size=(3,3))\n",
        "matrix_4 = np.random.randint(5,size=(4,4))"
      ],
      "metadata": {
        "id": "FgZDT7BO2e10"
      },
      "execution_count": 26,
      "outputs": []
    },
    {
      "cell_type": "code",
      "source": [
        "prod = matrix_3 * matrix_4\n",
        "print(prod)"
      ],
      "metadata": {
        "colab": {
          "base_uri": "https://localhost:8080/",
          "height": 158
        },
        "id": "-aWr8Zfs2sKT",
        "outputId": "c4523260-f82d-4531-fce3-ee7ba0820b37"
      },
      "execution_count": 27,
      "outputs": [
        {
          "output_type": "error",
          "ename": "ValueError",
          "evalue": "operands could not be broadcast together with shapes (3,3) (4,4) ",
          "traceback": [
            "\u001b[0;31m---------------------------------------------------------------------------\u001b[0m",
            "\u001b[0;31mValueError\u001b[0m                                Traceback (most recent call last)",
            "\u001b[0;32m<ipython-input-27-3a8f72833950>\u001b[0m in \u001b[0;36m<cell line: 1>\u001b[0;34m()\u001b[0m\n\u001b[0;32m----> 1\u001b[0;31m \u001b[0mprod\u001b[0m \u001b[0;34m=\u001b[0m \u001b[0mmatrix_3\u001b[0m \u001b[0;34m*\u001b[0m \u001b[0mmatrix_4\u001b[0m\u001b[0;34m\u001b[0m\u001b[0;34m\u001b[0m\u001b[0m\n\u001b[0m\u001b[1;32m      2\u001b[0m \u001b[0mprint\u001b[0m\u001b[0;34m(\u001b[0m\u001b[0mprod\u001b[0m\u001b[0;34m)\u001b[0m\u001b[0;34m\u001b[0m\u001b[0;34m\u001b[0m\u001b[0m\n",
            "\u001b[0;31mValueError\u001b[0m: operands could not be broadcast together with shapes (3,3) (4,4) "
          ]
        }
      ]
    },
    {
      "cell_type": "markdown",
      "source": [
        "### element wise matix multiplication"
      ],
      "metadata": {
        "id": "CIpn8VEi3AsM"
      }
    },
    {
      "cell_type": "code",
      "source": [
        "# two matrices with random values\n",
        "\n",
        "matrix_3 = np.random.randint(5,size=(3,3))\n",
        "matrix_4 = np.random.randint(5,size=(3,3))\n",
        "\n",
        "result = np.multiply(matrix_3,matrix_4)\n",
        "print(result)"
      ],
      "metadata": {
        "colab": {
          "base_uri": "https://localhost:8080/"
        },
        "id": "aQpP6jQ-3DXh",
        "outputId": "680fb3af-ce97-4e93-8e33-c6092f616ab6"
      },
      "execution_count": 29,
      "outputs": [
        {
          "output_type": "stream",
          "name": "stdout",
          "text": [
            "[[ 0  0  0]\n",
            " [ 0  0  2]\n",
            " [12  0 16]]\n"
          ]
        }
      ]
    },
    {
      "cell_type": "code",
      "source": [],
      "metadata": {
        "id": "Kpt24nBN3MH5"
      },
      "execution_count": null,
      "outputs": []
    }
  ]
}