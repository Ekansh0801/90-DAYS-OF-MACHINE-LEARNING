{
  "nbformat": 4,
  "nbformat_minor": 0,
  "metadata": {
    "colab": {
      "provenance": [],
      "authorship_tag": "ABX9TyOGO4cCPwf619fK3Bq3X3Bx",
      "include_colab_link": true
    },
    "kernelspec": {
      "name": "python3",
      "display_name": "Python 3"
    },
    "language_info": {
      "name": "python"
    }
  },
  "cells": [
    {
      "cell_type": "markdown",
      "metadata": {
        "id": "view-in-github",
        "colab_type": "text"
      },
      "source": [
        "<a href=\"https://colab.research.google.com/github/Ekansh0801/90-DAYS-OF-MACHINE-LEARNING/blob/main/DAY_32.ipynb\" target=\"_parent\"><img src=\"https://colab.research.google.com/assets/colab-badge.svg\" alt=\"Open In Colab\"/></a>"
      ]
    },
    {
      "cell_type": "markdown",
      "source": [
        "# Building Support Vector Machine Classifier from Scratch"
      ],
      "metadata": {
        "id": "WHSQRz2fAQDv"
      }
    },
    {
      "cell_type": "markdown",
      "source": [
        "### Importing the dependencies"
      ],
      "metadata": {
        "id": "vSKzkU5CAWZf"
      }
    },
    {
      "cell_type": "code",
      "source": [
        "# importing numpy library\n",
        "import numpy as np"
      ],
      "metadata": {
        "id": "yJNFayP7AYr6"
      },
      "execution_count": 1,
      "outputs": []
    },
    {
      "cell_type": "markdown",
      "source": [
        "### Support Vector Machine Classifier"
      ],
      "metadata": {
        "id": "06fe04x3AfuH"
      }
    },
    {
      "cell_type": "code",
      "source": [
        "class SVM_classifier():\n",
        "\n",
        "  # initiating the hyperparameters\n",
        "  def __init__(self,learning_rate,no_of_iterations,lambda_parameter):\n",
        "    self.learning_rate = learning_rate\n",
        "    self.no_of_iterations = no_of_iterations\n",
        "    self.lambda_parameter = lambda_parameter\n",
        "\n",
        "  # fitting the data into SVM classifier\n",
        "  def fit(self,X,Y):\n",
        "\n",
        "    # m --> number of data points --> no of rows\n",
        "    # n --> no of input feature points --> no of columns\n",
        "    self.m,self.n = X.shape\n",
        "\n",
        "    # initiating weights and bias value\n",
        "    self.w = np.zeros(self.n)\n",
        "    self.b = 0\n",
        "\n",
        "    self.X = X\n",
        "    self.Y = Y\n",
        "\n",
        "    # implementing gradient descent for optimization\n",
        "    for i in range (self.no_of_iterations):\n",
        "      self.update_weights()\n",
        "\n",
        "\n",
        "\n",
        "  # function for updating weights and bias value\n",
        "  def update_weights(self):\n",
        "\n",
        "    # label encoding\n",
        "    y_label = np.where(self.Y <= 0, -1, 1)\n",
        "\n",
        "    for index,x_i in enumerate(self.X):\n",
        "\n",
        "      condition = y_label[index] * (np.dot(x_i,self.W) - self.b) >= 1\n",
        "\n",
        "      if condition == True:\n",
        "        dw = 2 * self.lambda_parameter * self.w\n",
        "        db = 0\n",
        "\n",
        "      else:\n",
        "        dw = 2 * self.lambda_parameter * self.w - np.dot(x_i,y_label[index])\n",
        "        db = y_label[index]\n",
        "\n",
        "    self.w = self.w - self.learning_rate * dw\n",
        "    self.b = self.b - self.learning_rate * db\n",
        "\n",
        "  # predict the label for given input value\n",
        "  def predict(self,X):\n",
        "    output = np.dot(X,self.w) - self.b\n",
        "    predicted_labels = np.sign(output)\n",
        "\n",
        "    y_hat = np.where(predicted_labels <= -1 , 0, 1)\n",
        "\n",
        "    return y_hat()"
      ],
      "metadata": {
        "id": "T3TROCyiAig3"
      },
      "execution_count": 3,
      "outputs": []
    },
    {
      "cell_type": "code",
      "source": [
        "model = SVM_classifier(learning_rate = 0.001,no_of_iterations = 1000,lambda_parameter = 0.01)"
      ],
      "metadata": {
        "id": "hytiDStuDOhX"
      },
      "execution_count": 4,
      "outputs": []
    },
    {
      "cell_type": "code",
      "source": [
        "# understanding enumerate\n",
        "\n",
        "# my_list = [10,20,30,40,50]\n",
        "\n",
        "# for i,my_list_i in enumerate(my_list):\n",
        "#   print(i,my_list_i)"
      ],
      "metadata": {
        "colab": {
          "base_uri": "https://localhost:8080/"
        },
        "id": "vD3b5sYEHl2b",
        "outputId": "e662d198-6c91-4aca-cf81-1f6d1cfcce25"
      },
      "execution_count": 2,
      "outputs": [
        {
          "output_type": "stream",
          "name": "stdout",
          "text": [
            "0 10\n",
            "1 20\n",
            "2 30\n",
            "3 40\n",
            "4 50\n"
          ]
        }
      ]
    }
  ]
}