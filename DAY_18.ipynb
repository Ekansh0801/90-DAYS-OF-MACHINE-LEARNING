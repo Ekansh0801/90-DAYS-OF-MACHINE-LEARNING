{
  "nbformat": 4,
  "nbformat_minor": 0,
  "metadata": {
    "colab": {
      "provenance": [],
      "authorship_tag": "ABX9TyN/bNaWsSIckIh1u8NKo8I7",
      "include_colab_link": true
    },
    "kernelspec": {
      "name": "python3",
      "display_name": "Python 3"
    },
    "language_info": {
      "name": "python"
    }
  },
  "cells": [
    {
      "cell_type": "markdown",
      "metadata": {
        "id": "view-in-github",
        "colab_type": "text"
      },
      "source": [
        "<a href=\"https://colab.research.google.com/github/Ekansh0801/90-DAYS-OF-MACHINE-LEARNING/blob/main/DAY_18.ipynb\" target=\"_parent\"><img src=\"https://colab.research.google.com/assets/colab-badge.svg\" alt=\"Open In Colab\"/></a>"
      ]
    },
    {
      "cell_type": "markdown",
      "source": [
        "# Probability"
      ],
      "metadata": {
        "id": "tb3QaEOFSWux"
      }
    },
    {
      "cell_type": "markdown",
      "source": [
        "### understood basics of probabilty like random variables,\n",
        "### normal distribution, skewness, posisson distribution"
      ],
      "metadata": {
        "id": "71sAnWSeSaKO"
      }
    }
  ]
}